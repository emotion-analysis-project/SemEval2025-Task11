{
 "cells": [
  {
   "cell_type": "code",
   "execution_count": 1,
   "metadata": {},
   "outputs": [
    {
     "name": "stdout",
     "output_type": "stream",
     "text": [
      "Requirement already satisfied: scipy in /Users/abumafrim/miniconda3/envs/datascience/lib/python3.9/site-packages (from -r requirements.txt (line 1)) (1.12.0)\n",
      "Requirement already satisfied: numpy in /Users/abumafrim/miniconda3/envs/datascience/lib/python3.9/site-packages (from -r requirements.txt (line 2)) (1.26.0)\n",
      "Requirement already satisfied: tabulate2 in /Users/abumafrim/miniconda3/envs/datascience/lib/python3.9/site-packages (from -r requirements.txt (line 3)) (1.9.1)\n",
      "Requirement already satisfied: scikit-learn in /Users/abumafrim/miniconda3/envs/datascience/lib/python3.9/site-packages (from -r requirements.txt (line 4)) (1.4.1.post1)\n",
      "Requirement already satisfied: wcwidth>=0.2.13 in /Users/abumafrim/miniconda3/envs/datascience/lib/python3.9/site-packages (from tabulate2->-r requirements.txt (line 3)) (0.2.13)\n",
      "Requirement already satisfied: joblib>=1.2.0 in /Users/abumafrim/miniconda3/envs/datascience/lib/python3.9/site-packages (from scikit-learn->-r requirements.txt (line 4)) (1.3.2)\n",
      "Requirement already satisfied: threadpoolctl>=2.0.0 in /Users/abumafrim/miniconda3/envs/datascience/lib/python3.9/site-packages (from scikit-learn->-r requirements.txt (line 4)) (3.3.0)\n"
     ]
    }
   ],
   "source": [
    "# install dependencies and clone or update the shared task repository\n",
    "!bash settings.sh"
   ]
  },
  {
   "cell_type": "code",
   "execution_count": 3,
   "metadata": {},
   "outputs": [
    {
     "name": "stdout",
     "output_type": "stream",
     "text": [
      "\n",
      "==============\n",
      "Checklist:\n",
      "==============\n",
      "+------------------+----------+----------------------------------+\n",
      "| Item             | Status   | Comment                          |\n",
      "+==================+==========+==================================+\n",
      "| Submission file. | Pass     | Found valid file: pred_deu_a.csv |\n",
      "+------------------+----------+----------------------------------+\n",
      "| File format.     | Pass     | CSV file.                        |\n",
      "+------------------+----------+----------------------------------+\n",
      "| Language code.   | Pass     | Language code: deu               |\n",
      "+------------------+----------+----------------------------------+\n",
      "| Task name.       | Pass     | Task: A                          |\n",
      "+------------------+----------+----------------------------------+\n",
      "\n",
      "Evaluating submission file...\n",
      "\n",
      "Files format checked successfully\n",
      "\n",
      "Evaluation scores for deu track a:\n",
      "Multi-label accuracy (Jaccard score): 0.755\n",
      "Micro F1 score: 1.0\n",
      "Macro F1 score: 1.0\n"
     ]
    }
   ],
   "source": [
    "!python3 check_submission.py \\\n",
    "  -s /Users/abumafrim/Downloads/pred_deu_a.csv \\\n",
    "  -p dev \\\n",
    "  --evaluate \\\n",
    "  -g /Users/abumafrim/Downloads/example_gold_deu_a.csv"
   ]
  }
 ],
 "metadata": {
  "kernelspec": {
   "display_name": "Python 3",
   "language": "python",
   "name": "python3"
  },
  "language_info": {
   "codemirror_mode": {
    "name": "ipython",
    "version": 3
   },
   "file_extension": ".py",
   "mimetype": "text/x-python",
   "name": "python",
   "nbconvert_exporter": "python",
   "pygments_lexer": "ipython3",
   "version": "3.9.17"
  }
 },
 "nbformat": 4,
 "nbformat_minor": 2
}
